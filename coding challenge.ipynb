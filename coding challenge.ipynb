{
 "cells": [
  {
   "cell_type": "code",
   "execution_count": 1,
   "id": "ecbdece6",
   "metadata": {},
   "outputs": [
    {
     "name": "stdout",
     "output_type": "stream",
     "text": [
      "Number of pairs with sum 10 : 4\n"
     ]
    }
   ],
   "source": [
    "def count_with_sum(arr, X):\n",
    "    left, right = 0, len(arr) - 1\n",
    "    count = 0\n",
    "\n",
    "    while left < right:\n",
    "        current_sum = arr[left] + arr[right]\n",
    "\n",
    "        if current_sum == X:\n",
    "            count += 1\n",
    "            left += 1\n",
    "            right -= 1\n",
    "        elif current_sum < X:\n",
    "            left += 1\n",
    "        else:\n",
    "            right -= 1\n",
    "\n",
    "    return count\n",
    "\n",
    "# Example usage\n",
    "sorted_array = [1, 2, 3, 4, 5, 6, 7, 8, 9]\n",
    "target_sum = 10\n",
    "result = count_with_sum(sorted_array, target_sum)\n",
    "print(\"Number of pairs with sum\", target_sum, \":\", result)\n"
   ]
  },
  {
   "cell_type": "code",
   "execution_count": null,
   "id": "33dcbec0",
   "metadata": {},
   "outputs": [],
   "source": []
  }
 ],
 "metadata": {
  "kernelspec": {
   "display_name": "Python 3 (ipykernel)",
   "language": "python",
   "name": "python3"
  },
  "language_info": {
   "codemirror_mode": {
    "name": "ipython",
    "version": 3
   },
   "file_extension": ".py",
   "mimetype": "text/x-python",
   "name": "python",
   "nbconvert_exporter": "python",
   "pygments_lexer": "ipython3",
   "version": "3.9.12"
  }
 },
 "nbformat": 4,
 "nbformat_minor": 5
}
